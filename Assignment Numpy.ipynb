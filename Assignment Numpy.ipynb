{
 "cells": [
  {
   "cell_type": "code",
   "execution_count": 1,
   "id": "21a6dd81-328d-4667-bf52-934327433e84",
   "metadata": {},
   "outputs": [
    {
     "name": "stdout",
     "output_type": "stream",
     "text": [
      "Original Array:\n",
      " [[84  4 80]\n",
      " [22 57 97]\n",
      " [81 84 15]]\n",
      "\n",
      "Transposed Array:\n",
      " [[84 22 81]\n",
      " [ 4 57 84]\n",
      " [80 97 15]]\n"
     ]
    }
   ],
   "source": [
    "#1\n",
    "import numpy as np\n",
    "\n",
    "array = np.random.randint(1, 101, (3, 3))\n",
    "transposed_array = array.T\n",
    "print(\"Original Array:\\n\", array)\n",
    "print(\"\\nTransposed Array:\\n\", transposed_array)"
   ]
  },
  {
   "cell_type": "code",
   "execution_count": 2,
   "id": "7e86f057-e540-42d8-9b36-301c8415172a",
   "metadata": {},
   "outputs": [
    {
     "name": "stdout",
     "output_type": "stream",
     "text": [
      "1D Array:\n",
      " [ 1  2  3  4  5  6  7  8  9 10]\n",
      "\n",
      "Reshaped 2x5 Array:\n",
      " [[ 1  2  3  4  5]\n",
      " [ 6  7  8  9 10]]\n",
      "\n",
      "Reshaped 5x2 Array:\n",
      " [[ 1  2]\n",
      " [ 3  4]\n",
      " [ 5  6]\n",
      " [ 7  8]\n",
      " [ 9 10]]\n"
     ]
    }
   ],
   "source": [
    "#2\n",
    "import numpy as np\n",
    "\n",
    "array_1d = np.arange(1, 11)\n",
    "array_2x5 = array_1d.reshape(2, 5)\n",
    "array_5x2 = array_2x5.reshape(5, 2)\n",
    "\n",
    "print(\"1D Array:\\n\", array_1d)\n",
    "print(\"\\nReshaped 2x5 Array:\\n\", array_2x5)\n",
    "print(\"\\nReshaped 5x2 Array:\\n\", array_5x2)\n"
   ]
  },
  {
   "cell_type": "code",
   "execution_count": 3,
   "id": "a25d07b8-7c37-4586-b819-973f49b5c4f4",
   "metadata": {},
   "outputs": [
    {
     "name": "stdout",
     "output_type": "stream",
     "text": [
      "Original 4x4 Array:\n",
      " [[0.5206774  0.12820108 0.47937753 0.51977023]\n",
      " [0.98616119 0.94977587 0.47089452 0.73406439]\n",
      " [0.00413677 0.17130693 0.46753539 0.48723268]\n",
      " [0.90712394 0.80125726 0.55638547 0.16909497]]\n",
      "\n",
      "6x6 Array with Zero Border:\n",
      " [[0.         0.         0.         0.         0.         0.        ]\n",
      " [0.         0.5206774  0.12820108 0.47937753 0.51977023 0.        ]\n",
      " [0.         0.98616119 0.94977587 0.47089452 0.73406439 0.        ]\n",
      " [0.         0.00413677 0.17130693 0.46753539 0.48723268 0.        ]\n",
      " [0.         0.90712394 0.80125726 0.55638547 0.16909497 0.        ]\n",
      " [0.         0.         0.         0.         0.         0.        ]]\n"
     ]
    }
   ],
   "source": [
    "#3\n",
    "array_4x4 = np.random.rand(4, 4)\n",
    "array_6x6 = np.pad(array_4x4, pad_width=1, mode='constant', constant_values=0)\n",
    "\n",
    "print(\"Original 4x4 Array:\\n\", array_4x4)\n",
    "print(\"\\n6x6 Array with Zero Border:\\n\", array_6x6)\n"
   ]
  },
  {
   "cell_type": "code",
   "execution_count": 4,
   "id": "7148c659-9904-4606-b3b1-6ee8994eb16e",
   "metadata": {},
   "outputs": [
    {
     "name": "stdout",
     "output_type": "stream",
     "text": [
      "[10 15 20 25 30 35 40 45 50 55 60]\n"
     ]
    }
   ],
   "source": [
    "#4\n",
    "arr = np.arange(10, 61, 5)\n",
    "print(arr)"
   ]
  },
  {
   "cell_type": "code",
   "execution_count": 5,
   "id": "e8c2be76-821a-467a-a598-13b2c81439e7",
   "metadata": {},
   "outputs": [
    {
     "name": "stdout",
     "output_type": "stream",
     "text": [
      "Uppercase: ['PYTHON' 'NUMPY' 'PANDAS']\n",
      "Lowercase: ['python' 'numpy' 'pandas']\n",
      "Title Case: ['Python' 'Numpy' 'Pandas']\n",
      "Capitalize: ['Python' 'Numpy' 'Pandas']\n"
     ]
    }
   ],
   "source": [
    "#5\n",
    "string_array = np.array(['python', 'numpy', 'pandas'])\n",
    "\n",
    "uppercase_array = np.char.upper(string_array)\n",
    "lowercase_array = np.char.lower(string_array)\n",
    "titlecase_array = np.char.title(string_array)\n",
    "capitalize_array = np.char.capitalize(string_array)\n",
    "\n",
    "print(\"Uppercase:\", uppercase_array)\n",
    "print(\"Lowercase:\", lowercase_array)\n",
    "print(\"Title Case:\", titlecase_array)\n",
    "print(\"Capitalize:\", capitalize_array)\n"
   ]
  },
  {
   "cell_type": "code",
   "execution_count": 6,
   "id": "f197023b-d2c3-4c57-8b5e-b382fb06859a",
   "metadata": {},
   "outputs": [
    {
     "name": "stdout",
     "output_type": "stream",
     "text": [
      "Original Words: ['hello' 'numpy' 'python']\n",
      "Words with Spaces: ['h e l l o' 'n u m p y' 'p y t h o n']\n"
     ]
    }
   ],
   "source": [
    "#6\n",
    "words_array = np.array(['hello', 'numpy', 'python'])\n",
    "spaced_words_array = np.char.join(' ', words_array)\n",
    "\n",
    "print(\"Original Words:\", words_array)\n",
    "print(\"Words with Spaces:\", spaced_words_array)\n"
   ]
  },
  {
   "cell_type": "code",
   "execution_count": 7,
   "id": "4b763b6e-b7bd-4197-9f33-5851b621ffa0",
   "metadata": {},
   "outputs": [
    {
     "name": "stdout",
     "output_type": "stream",
     "text": [
      "Addition:\n",
      " [[15 30 45]\n",
      " [60 75 90]]\n",
      "\n",
      "Subtraction:\n",
      " [[ 5 10 15]\n",
      " [20 25 30]]\n",
      "\n",
      "Multiplication:\n",
      " [[  50  200  450]\n",
      " [ 800 1250 1800]]\n",
      "\n",
      "Division:\n",
      " [[2. 2. 2.]\n",
      " [2. 2. 2.]]\n"
     ]
    }
   ],
   "source": [
    "#7\n",
    "array1 = np.array([[10, 20, 30], [40, 50, 60]])\n",
    "array2 = np.array([[5, 10, 15], [20, 25, 30]])\n",
    "\n",
    "addition = array1 + array2\n",
    "subtraction = array1 - array2\n",
    "multiplication = array1 * array2\n",
    "division = array1 / array2\n",
    "\n",
    "print(\"Addition:\\n\", addition)\n",
    "print(\"\\nSubtraction:\\n\", subtraction)\n",
    "print(\"\\nMultiplication:\\n\", multiplication)\n",
    "print(\"\\nDivision:\\n\", division)\n"
   ]
  },
  {
   "cell_type": "code",
   "execution_count": 8,
   "id": "53d4e3c1-31db-4508-81a9-1639056ab565",
   "metadata": {},
   "outputs": [
    {
     "name": "stdout",
     "output_type": "stream",
     "text": [
      "Identity Matrix:\n",
      " [[1. 0. 0. 0. 0.]\n",
      " [0. 1. 0. 0. 0.]\n",
      " [0. 0. 1. 0. 0.]\n",
      " [0. 0. 0. 1. 0.]\n",
      " [0. 0. 0. 0. 1.]]\n",
      "\n",
      "Diagonal Elements: [1. 1. 1. 1. 1.]\n"
     ]
    }
   ],
   "source": [
    "#8\n",
    "identity_matrix = np.eye(5)\n",
    "\n",
    "# Extract the diagonal elements\n",
    "diagonal_elements = np.diag(identity_matrix)\n",
    "\n",
    "# Print results\n",
    "print(\"Identity Matrix:\\n\", identity_matrix)\n",
    "print(\"\\nDiagonal Elements:\", diagonal_elements)"
   ]
  },
  {
   "cell_type": "code",
   "execution_count": 9,
   "id": "c3a7e7f9-4de4-4fbb-9b67-b96855f73044",
   "metadata": {},
   "outputs": [
    {
     "name": "stdout",
     "output_type": "stream",
     "text": [
      "Random Array:\n",
      " [901 880 835 649 777 490 682 172 380 657 404 178 849 169 731 744 530 640\n",
      " 206 407 985 766 331  98 442 405  96 576 404 288 559 609 639 848 113 921\n",
      " 551 787 423 460 965 574 662  26 964 359 109 689 231 336 486 703 547 177\n",
      " 131 990 172 811  79 895 191 788 878  70 993 562 745 629 192 521   6 729\n",
      " 556 298 348 861 520 192 457 246 121  14 963 927 245 312 717 339 801 344\n",
      " 658 999  51 233 595 680 580 465  27 411]\n",
      "\n",
      "Prime Numbers Found:\n",
      " [331 113 787 359 109 547 131 811  79 191 521 457 233]\n"
     ]
    }
   ],
   "source": [
    "#9\n",
    "def is_prime(n):\n",
    "    if n < 2:\n",
    "        return False\n",
    "    for i in range(2, int(n**0.5) + 1):\n",
    "        if n % i == 0:\n",
    "            return False\n",
    "    return True\n",
    "\n",
    "# Generate a NumPy array of 100 random integers between 0 and 1000\n",
    "random_array = np.random.randint(0, 1001, 100)\n",
    "\n",
    "# Find all prime numbers in the array\n",
    "prime_numbers = random_array[np.vectorize(is_prime)(random_array)]\n",
    "\n",
    "# Print results\n",
    "print(\"Random Array:\\n\", random_array)\n",
    "print(\"\\nPrime Numbers Found:\\n\", prime_numbers)"
   ]
  },
  {
   "cell_type": "code",
   "execution_count": 10,
   "id": "28fb2846-123e-47d9-b7cd-53f7e9e22a7d",
   "metadata": {},
   "outputs": [
    {
     "name": "stdout",
     "output_type": "stream",
     "text": [
      "Daily Temperatures:\n",
      " [30.48400434 26.2655743  21.52151584 25.82780317 26.01632498 25.30351423\n",
      " 27.50536314 24.72229826 30.43489487 23.34854831 37.81786563 26.82514449\n",
      " 23.82976739 28.98873304 31.22039753 25.95031818 33.73568152 24.88991865\n",
      " 24.45426866 20.99882408 25.75136068 26.66093977 21.37359954 26.92732807\n",
      " 36.35366583 28.27715511 22.36562695 37.33145106 35.70822123 35.40021856]\n",
      "\n",
      "Weekly Averages:\n",
      " [26.13201429 27.99532171 26.71439561 28.46996662]\n"
     ]
    }
   ],
   "source": [
    "#10\n",
    "daily_temperatures = np.random.uniform(20, 40, 30)  # Random temperatures between 20°C and 40°C\n",
    "\n",
    "# Reshape the array into weeks (4 weeks + 2 extra days)\n",
    "weeks = daily_temperatures[:28].reshape(4, 7)  # First 4 weeks\n",
    "extra_days = daily_temperatures[28:]  # Last 2 days\n",
    "\n",
    "# Calculate weekly averages\n",
    "weekly_averages = np.mean(weeks, axis=1)\n",
    "\n",
    "# Print results\n",
    "print(\"Daily Temperatures:\\n\", daily_temperatures)\n",
    "print(\"\\nWeekly Averages:\\n\", weekly_averages)"
   ]
  },
  {
   "cell_type": "code",
   "execution_count": null,
   "id": "49e76847-a462-4934-b60a-93d9e6709c64",
   "metadata": {},
   "outputs": [],
   "source": []
  }
 ],
 "metadata": {
  "kernelspec": {
   "display_name": "Python 3 (ipykernel)",
   "language": "python",
   "name": "python3"
  },
  "language_info": {
   "codemirror_mode": {
    "name": "ipython",
    "version": 3
   },
   "file_extension": ".py",
   "mimetype": "text/x-python",
   "name": "python",
   "nbconvert_exporter": "python",
   "pygments_lexer": "ipython3",
   "version": "3.11.0"
  }
 },
 "nbformat": 4,
 "nbformat_minor": 5
}
